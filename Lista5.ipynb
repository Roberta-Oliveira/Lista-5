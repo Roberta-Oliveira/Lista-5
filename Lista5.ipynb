{
  "nbformat": 4,
  "nbformat_minor": 0,
  "metadata": {
    "colab": {
      "name": "Lista5.ipynb",
      "provenance": [],
      "authorship_tag": "ABX9TyOgDUT+dK7FQoZfJ7+/1Cjf",
      "include_colab_link": true
    },
    "kernelspec": {
      "name": "python3",
      "display_name": "Python 3"
    }
  },
  "cells": [
    {
      "cell_type": "markdown",
      "metadata": {
        "id": "view-in-github",
        "colab_type": "text"
      },
      "source": [
        "<a href=\"https://colab.research.google.com/github/Roberta-Oliveira/Lista-5/blob/main/Lista5.ipynb\" target=\"_parent\"><img src=\"https://colab.research.google.com/assets/colab-badge.svg\" alt=\"Open In Colab\"/></a>"
      ]
    },
    {
      "cell_type": "code",
      "metadata": {
        "id": "RIkrwtYHZYjB",
        "colab": {
          "base_uri": "https://localhost:8080/"
        },
        "outputId": "1a3a5c09-561a-422d-ebc7-d4411587412f"
      },
      "source": [
        "# Disciplina: Probabilidade e Estatistica\n",
        "# Aluno: Roberta Oliveira Avelino - 2014290081\n",
        "# Lista 5\n",
        "\n",
        "\n",
        "\n",
        "#Ex 1\n",
        "\n",
        "#Uma amostra de gaúchos foi investigada em relação ao consumo de sal diário, obtendo-se o seguinte: 10, 13, 17, 9, 8, 11, 13, 7\n",
        "#Escreva em python uma lista com os valores mostrados acima e calcule:\n",
        "# a) Média aritmética simples;\n",
        "# b) Média harmônica;\n",
        "# c) Média geométrica;\n",
        "# d) Moda;\n",
        "# e) Variância;\n",
        "# f) Desvio padrão.\n",
        "\n",
        "import statistics\n",
        "con = [10, 13, 17, 9, 8, 11, 13, 7]\n",
        "Media_Simples = statistics.mean(con)\n",
        "print('A média simples de Consumo é', Media_Simples)\n",
        "Med_Harm = statistics.harmonic_mean(con)\n",
        "print('A média harmonica de Consumo é', round(Med_Harm,2))\n",
        "from scipy.stats.mstats import gmean\n",
        "Med_Geom = gmean(con)\n",
        "print('A media geométrica é:', round(Med_Geom,2))\n",
        "Moda = statistics.mode(con)\n",
        "print('A Moda de Consumo é', Moda)\n",
        "Variancia = statistics.variance(con)\n",
        "print('A variancia de Consumo é', round(Variancia,2))\n",
        "Desv = statistics.stdev(con)\n",
        "print('O Desvio padrão de Consumo é', round(Desv,2))\n"
      ],
      "execution_count": null,
      "outputs": [
        {
          "output_type": "stream",
          "text": [
            "A média simples de Consumo é 11\n",
            "A média harmonica de Consumo é 10.22\n",
            "A media geométrica é: 10.6\n",
            "A Moda de Consumo é 13\n",
            "A variancia de Consumo é 10.57\n",
            "O Desvio padrão de Consumo é 3.25\n"
          ],
          "name": "stdout"
        }
      ]
    },
    {
      "cell_type": "code",
      "metadata": {
        "colab": {
          "base_uri": "https://localhost:8080/"
        },
        "id": "8UYv_Q3HcNLO",
        "outputId": "8b965850-e07b-48f1-dced-e0353a2f4aa7"
      },
      "source": [
        "#Ex 2\n",
        "\n",
        "#Os resultados baseados em uma escala de ansiedade para uma amostra de nove sujeitos são: 67, 75, 63, 72, 77, 78, 81, 77, 80\n",
        "\n",
        "#Escreva em python uma lista com os valores mostrados acima e calcule:\n",
        "# a) Média aritmética simples, harmônica e geométrica\n",
        "# b) Moda;\n",
        "# c) Mediana;\n",
        "# d) Variância;\n",
        "# e) Desvio padrão;\n",
        "\n",
        "import statistics\n",
        "ansi = [67, 75, 63, 72, 77, 78, 81, 77, 80]\n",
        "Media_Simples = statistics.mean(ansi)\n",
        "print('A média simples de ansiedade é', Media_Simples)\n",
        "Med_Harm = statistics.harmonic_mean(ansi)\n",
        "print('A média harmonica de ansiedade é', round(Med_Harm,2))\n",
        "from scipy.stats.mstats import gmean\n",
        "Med_Geom = gmean(ansi)\n",
        "print('A media geométrica é:', round(Med_Geom,2))\n",
        "Moda = statistics.mode(ansi)\n",
        "print('A Moda de ansiedade é', Moda)\n",
        "Mediana = statistics.median(ansi)\n",
        "print('A Mediana de ansiedade é', Mediana)\n",
        "Variancia = statistics.variance(ansi)\n",
        "print('A variancia de ansiedade é', round(Variancia,2))\n",
        "Desv = statistics.stdev(ansi)\n",
        "print('O Desvio padrão de ansiedade é', round(Desv,2))"
      ],
      "execution_count": null,
      "outputs": [
        {
          "output_type": "stream",
          "text": [
            "A média simples de ansiedade é 74.44444444444444\n",
            "A média harmonica de ansiedade é 73.98\n",
            "A media geométrica é: 74.22\n",
            "A Moda de ansiedade é 77\n",
            "A Mediana de ansiedade é 77\n",
            "A variancia de ansiedade é 36.53\n",
            "O Desvio padrão de ansiedade é 6.04\n"
          ],
          "name": "stdout"
        }
      ]
    },
    {
      "cell_type": "code",
      "metadata": {
        "id": "1ehX8Wk4eJDP",
        "colab": {
          "base_uri": "https://localhost:8080/"
        },
        "outputId": "6fd762ca-5907-4759-8d7d-23e6e6595a29"
      },
      "source": [
        "#Ex 3\n",
        "\n",
        "#Os dados em rol relacionados a seguir referem-se à produção diária de leite de vacas\n",
        "# da raça Holandesa obtida em duas ordenhas, em Kg.\n",
        "# 4.0 4.5 5.0 5.0 5.5 6.0 6.0 6.5 6.5 6.5\n",
        "# 6.5 7.0 7.0 7.0 7.0 7.0 7.5 8.5 9.0 9.0\n",
        "# 9.0 9.5 10.0 10.5 11.0 12.0 12.5 13.0 13.0\n",
        "\n",
        "#Calcule o coeficiente de variação desse conjunto de dados.\n",
        "\n",
        "import statistics\n",
        "import math\n",
        "num = (4.0, 4.5, 5.0, 5.0, 5.5, 6.0, 6.0, 6.5, 6.5, 6.5, 6.5, 7.0, 7.0, 7.0, 7.0, 7.0, 7.5, 8.5, 9.0, 9.0, 9.0, 9.5, 10.0, 10.5, 11.0, 12.0, 12.5, 13.0, 13.0)\n",
        "num = sorted(num)\n",
        "cv = (statistics.stdev(num)/len(num))*100\n",
        "print(f'Coeficiente de Variação: {cv:.1f}%')"
      ],
      "execution_count": null,
      "outputs": [
        {
          "output_type": "stream",
          "text": [
            "Coeficiente de Variação: 8.9%\n"
          ],
          "name": "stdout"
        }
      ]
    },
    {
      "cell_type": "code",
      "metadata": {
        "colab": {
          "base_uri": "https://localhost:8080/"
        },
        "id": "gLxqv5uOegGk",
        "outputId": "6b4ad893-7e76-4b0d-e57d-0966275e4040"
      },
      "source": [
        "#Ex 4\n",
        "\n",
        "#A tabela seguinte apresenta a produção de café, em milhões de toneladas, na região DELTA. \n",
        "# 12, 15, 18, 22, 17, 14, 18, 23, 29, 12\n",
        "\n",
        "# a) Calcule o valor da produção média.\n",
        "# b) Calcule o valor da mediana da produção.\n",
        "# c) Calcule o valor do desvio padrão da produção.\n",
        "\n",
        "import statistics\n",
        "ton = [12, 15, 18, 22, 17, 14, 18, 23, 29, 12]\n",
        "Media_Simples = statistics.mean(ton)\n",
        "print('A média simples de toneladas é', Media_Simples)\n",
        "Mediana = statistics.median(ton)\n",
        "print('A Mediana de toneladas é', Mediana)\n",
        "Desv = statistics.stdev(ton)\n",
        "print('O Desvio padrão de toneladas é', round(Desv,2))\n"
      ],
      "execution_count": null,
      "outputs": [
        {
          "output_type": "stream",
          "text": [
            "A média simples de toneladas é 18\n",
            "A Mediana de toneladas é 17.5\n",
            "O Desvio padrão de toneladas é 5.37\n"
          ],
          "name": "stdout"
        }
      ]
    },
    {
      "cell_type": "code",
      "metadata": {
        "id": "O9VDPM1ayBU5"
      },
      "source": [
        "#Ex 5\n",
        "\n"
      ],
      "execution_count": null,
      "outputs": []
    },
    {
      "cell_type": "code",
      "metadata": {
        "colab": {
          "base_uri": "https://localhost:8080/"
        },
        "id": "OY4yvlzsAQPk",
        "outputId": "2d3f9fe7-d49a-414d-e9e1-3821d924122c"
      },
      "source": [
        "#Ex 6\n",
        "\n",
        "#Escreva em Python um algoritmo que solicite para o usuário inserir 3\n",
        "# notas de um aluno (entre 0 e 10)\n",
        "#O programa deve calcular a média ponderada com os pesos 3, 4 e 3\n",
        "#para as 3 notas recebidas.\n",
        "\n",
        "nota1 = float(input(\"Nota 1: \"))\n",
        "nota2 = float(input(\"Nota 2: \"))\n",
        "nota3 = float(input(\"Nota 3: \"))\n",
        "\n",
        "peso1 = float(input(\"Peso 1: \"))\n",
        "peso2 = float(input(\"Peso 2: \"))\n",
        "peso3 = float(input(\"Peso 3: \"))\n",
        "  \n",
        "media = (nota1*peso1 + nota2*peso2 + nota3*peso3)/ (peso1+peso2+peso3)\n",
        "print(\"Média: \", media)"
      ],
      "execution_count": null,
      "outputs": [
        {
          "output_type": "stream",
          "text": [
            "Nota 1: 7\n",
            "Nota 2: 4\n",
            "Nota 3: 3\n",
            "Peso 1: 3\n",
            "Peso 2: 4\n",
            "Peso 3: 3\n",
            "Média:  4.6\n"
          ],
          "name": "stdout"
        }
      ]
    }
  ]
}